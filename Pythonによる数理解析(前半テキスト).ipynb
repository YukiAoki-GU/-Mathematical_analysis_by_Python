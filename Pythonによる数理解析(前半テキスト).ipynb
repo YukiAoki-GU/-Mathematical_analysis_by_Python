{
  "nbformat": 4,
  "nbformat_minor": 0,
  "metadata": {
    "colab": {
      "provenance": [],
      "toc_visible": true,
      "include_colab_link": true
    },
    "kernelspec": {
      "name": "python3",
      "display_name": "Python 3"
    },
    "language_info": {
      "name": "python"
    }
  },
  "cells": [
    {
      "cell_type": "markdown",
      "metadata": {
        "id": "view-in-github",
        "colab_type": "text"
      },
      "source": [
        "<a href=\"https://colab.research.google.com/github/YukiAoki-GU/-Mathematical_analysis_by_Python/blob/main/Python%E3%81%AB%E3%82%88%E3%82%8B%E6%95%B0%E7%90%86%E8%A7%A3%E6%9E%90(%E5%89%8D%E5%8D%8A%E3%83%86%E3%82%AD%E3%82%B9%E3%83%88).ipynb\" target=\"_parent\"><img src=\"https://colab.research.google.com/assets/colab-badge.svg\" alt=\"Open In Colab\"/></a>"
      ]
    },
    {
      "cell_type": "markdown",
      "metadata": {
        "id": "xMxo393dXQI3"
      },
      "source": [
        "#Pythonによる数理解析(前半)\n",
        "Numpyという配列処理のライブラリと，Matplotlibというグラフ描画ライブラリを用いて，自然現象の数理解析について学びます。"
      ]
    },
    {
      "cell_type": "markdown",
      "metadata": {
        "id": "lEgcYkhuYgT8"
      },
      "source": [
        "## 講義で使用するライブラリの読み込み"
      ]
    },
    {
      "cell_type": "code",
      "metadata": {
        "id": "Wi8WF5soYi6Y"
      },
      "source": [
        "import numpy as np\n",
        "import matplotlib.pyplot as plt\n",
        "from matplotlib import animation, rc\n",
        "from IPython.display import HTML\n",
        "from PIL import Image"
      ],
      "execution_count": null,
      "outputs": []
    },
    {
      "cell_type": "markdown",
      "metadata": {
        "id": "GYphH8q7tULt"
      },
      "source": [
        "---\n",
        "# グラフ作成の基礎\n",
        "## キャンバスと座標軸の作成"
      ]
    },
    {
      "cell_type": "code",
      "metadata": {
        "id": "HZOBAkEKtZSb"
      },
      "source": [
        "fig = plt.figure()          #キャンバスを作る\n",
        "ax = fig.add_subplot(1,1,1) #1行1列の1番目に座標軸を作る\n"
      ],
      "execution_count": null,
      "outputs": []
    },
    {
      "cell_type": "code",
      "metadata": {
        "id": "xYogPXArt9UN"
      },
      "source": [
        "fig = plt.figure()\n",
        "ax = fig.add_subplot(2,3,1) #2行3列の1番目に座標軸を作る\n",
        "ax = fig.add_subplot(2,3,5) #2行3列の5番目に座標軸を作る"
      ],
      "execution_count": null,
      "outputs": []
    },
    {
      "cell_type": "markdown",
      "metadata": {
        "id": "jmZjKfAxwKeK"
      },
      "source": [
        "### 練習問題\n",
        "キャンバス全体に座標軸ax1を一つ作成し，2行3列に分割したax1の右上にインセットとなる座標軸ax2を作りなさい。\n",
        "\n",
        "[解説動画](https://youtu.be/KpgFnr7E8Bs)"
      ]
    },
    {
      "cell_type": "code",
      "metadata": {
        "id": "GCBQ7xl1pJug"
      },
      "source": [],
      "execution_count": null,
      "outputs": []
    },
    {
      "cell_type": "markdown",
      "metadata": {
        "id": "EeJMZDSPYsj6"
      },
      "source": [
        "## グラフ\n",
        "$y = x$の単純な散布図を作ってみます。"
      ]
    },
    {
      "cell_type": "code",
      "metadata": {
        "id": "Qm71sTSDY5EP"
      },
      "source": [
        "x = []                    # xの値を入力するための空の配列を作成\n",
        "y = []                    # yの値を入力するための空の配列を作成\n",
        "\n",
        "for i in range(10):\n",
        "  x = np.append(x, i)\n",
        "  y = np.append(y, i)\n",
        "\n",
        "fig = plt.figure()             # キャンバス作成\n",
        "ax = fig.add_subplot(1, 1, 1)  # 座標軸作成\n",
        "#ax.plot(x, y)\n",
        "#ax.plot(x, y, color='blue', marker='o', linestyle='None')   #青色，●，ライン無し\n",
        "ax.plot(x, y, color='red', marker='^', linestyle='-.') #赤色，三角，破線\n",
        "ax.set_xlabel('x label')\n",
        "ax.set_ylabel('y label')\n",
        "#plt.show()                    # 表示\n"
      ],
      "execution_count": null,
      "outputs": []
    },
    {
      "cell_type": "markdown",
      "metadata": {
        "id": "QUxIxvYwhTdZ"
      },
      "source": [
        "### 練習問題\n",
        "$x$軸を0-90とした時，10刻みで$y=x^2$の散布図を作りなさい。\n",
        "\n",
        "[解説動画](https://youtu.be/aWb-ja3dQVA)"
      ]
    },
    {
      "cell_type": "code",
      "metadata": {
        "id": "fOPExfIbhlEj"
      },
      "source": [],
      "execution_count": null,
      "outputs": []
    },
    {
      "cell_type": "markdown",
      "metadata": {
        "id": "_DZnK3bgjmWl"
      },
      "source": [
        "### 練習問題\n",
        "$x$軸を0-9とした時，1刻みで以下の散布図を作りなさい。\n",
        "\n",
        "$y = x$　　　　　　　$(x < 5)$\n",
        "\n",
        "$y = 10 - x$　　　　$(x >= 5)$\n",
        "\n",
        "[解説動画](https://youtu.be/oNKd5Zi-Sl8)"
      ]
    },
    {
      "cell_type": "code",
      "metadata": {
        "id": "HP5dztzzkWID"
      },
      "source": [],
      "execution_count": null,
      "outputs": []
    },
    {
      "cell_type": "markdown",
      "metadata": {
        "id": "dO5407TSrJg8"
      },
      "source": [
        "---\n",
        "## アニメーション"
      ]
    },
    {
      "cell_type": "markdown",
      "metadata": {
        "id": "Wy7GydXI1ont"
      },
      "source": [
        "アニメーション用のライブラリ読み込み"
      ]
    },
    {
      "cell_type": "code",
      "metadata": {
        "id": "SMmncxH41tNQ"
      },
      "source": [
        "from matplotlib import animation, rc\n",
        "from IPython.display import HTML"
      ],
      "execution_count": null,
      "outputs": []
    },
    {
      "cell_type": "markdown",
      "metadata": {
        "id": "GSQqUBHN1vYH"
      },
      "source": [
        "y = xのグラフのプロットを1枚づつアニメーション表示するには，1枚づつをリストに格納して表示します。\n",
        "\n",
        "まず，1枚づつのグラフを3x4として表示してみます。"
      ]
    },
    {
      "cell_type": "code",
      "metadata": {
        "id": "Bhkp8BQHA-JY"
      },
      "source": [
        "fig = plt.figure(figsize=(20, 15))            \n",
        "\n",
        "for i in range(10):\n",
        "  x = i\n",
        "  y = i\n",
        "  ax = fig.add_subplot(3, 4, i+1) \n",
        "  ax.plot(x, y, color='red', marker='o', linestyle='None')\n",
        "  ax.set_xlim(0, 10)    # x軸を0-10に固定\n",
        "  ax.set_ylim(0, 10)    # y軸を0-10に固定\n",
        "\n",
        "plt.show()"
      ],
      "execution_count": null,
      "outputs": []
    },
    {
      "cell_type": "markdown",
      "metadata": {
        "id": "uROAZao8DVm9"
      },
      "source": [
        "グラフをimsのリストに格納してアニメーション表示"
      ]
    },
    {
      "cell_type": "code",
      "metadata": {
        "id": "_-3wxrqw16gB"
      },
      "source": [
        "ims = []    # 座標軸の空の配列を作成\n",
        "\n",
        "fig = plt.figure()            \n",
        "ax = fig.add_subplot(1, 1, 1) \n",
        "\n",
        "for i in range(10):\n",
        "  x = i\n",
        "  y = i\n",
        "  im = ax.plot(x, y, color='red', marker='o', linestyle='None')\n",
        "  ims.append(im)                          # グラフをリストに格納\n",
        "\n",
        "ax.set_xlim(0, 10)\n",
        "ax.set_ylim(0, 10)\n",
        "plt.close()                               # pltを閉じておかないとアニメーションと別にpltのグラフが表示されてしまう\n",
        "ani = animation.ArtistAnimation(fig, ims) # アニメーションを作成\n",
        "rc('animation', html='jshtml')            # Google Colaboratoryの場合必要\n",
        "ani"
      ],
      "execution_count": null,
      "outputs": []
    },
    {
      "cell_type": "markdown",
      "metadata": {
        "id": "nJoUUgNfEqrv"
      },
      "source": [
        "### 練習問題\n",
        "iを0から99まで1づつ増える変数とした時，\n",
        "\n",
        "$y = \\sin(x - i)$\n",
        "\n",
        "$y = \\cos(x - i)$\n",
        "\n",
        "の2つの波の時間変化をアニメーション表示するプログラムを作りなさい。\n",
        "\n",
        "$x$軸の範囲は0〜10, $y$軸の範囲は-1.2〜1.2としなさい。\n",
        "\n",
        "ヒント：\n",
        "\n",
        "$y = \\sin(x)$は$y=$np.sin(x)と書くことができる。\n",
        "\n",
        "関数fと関数gの両方をリストimsに追加するには\n",
        "\n",
        "ims.append(f + g)\n",
        "\n",
        "[解説動画](https://youtu.be/q3P8r7KjAA0)"
      ]
    },
    {
      "cell_type": "code",
      "metadata": {
        "id": "C2pp821XIQ5M"
      },
      "source": [],
      "execution_count": null,
      "outputs": []
    },
    {
      "cell_type": "markdown",
      "metadata": {
        "id": "TEFbPE33J9JC"
      },
      "source": [
        "---\n",
        "# 力学"
      ]
    },
    {
      "cell_type": "markdown",
      "metadata": {
        "id": "awljdOgsKTgc"
      },
      "source": [
        "物体の運動をPythonでシミュレーションしてみましょう。\n",
        "\n",
        "重力下での質点の運動方程式は\n",
        "\n",
        "$$ m \\frac{d^2 \\mathbf{r}}{dt^2} = - m g $$\n",
        "\n",
        "この運動方程式は解析的に簡単に解けますが，跳ね返りなどの境界条件を加えてしまうと，解析的に解くことは途端に難しくなります。\n",
        "\n",
        "そこで，解析的に解くのではなく，数値的に解いてみましょう。\n",
        "\n",
        "速度ベクトル$\\mathbf{v} (=\\frac{d\\mathbf{r}}{dt})$を用いると運動方程式は\n",
        "\n",
        "$$ \\frac{d\\mathbf{v}}{dt} = -g $$\n",
        "\n",
        "微分の定義で書き直すと\n",
        "\n",
        "$$ \\lim_{\\Delta t \\to 0} \\frac{\\mathbf{v}(t+\\Delta t) - \\mathbf{v}(t)}{\\Delta t} = -g $$\n",
        "\n",
        "よって\n",
        "\n",
        "$$ \\mathbf{v}(t + \\Delta t) = \\mathbf{v}(t) -g \\Delta t $$\n",
        "\n",
        "重力が$-y$方向に働くとすると\n",
        "\n",
        "$$ v_y (t + \\Delta t) = v_y (t) -g \\Delta t $$\n",
        "\n",
        "初期条件として：\n",
        "\n",
        "$t = 0$において$v_x = v_y =0$, $x=0$ [m], $y = 100$ [m]\n",
        "\n",
        "$\\Delta t = 0.1$ [sec]\n",
        "\n",
        "とすると"
      ]
    },
    {
      "cell_type": "code",
      "metadata": {
        "id": "Zf6OtFN2KUmE"
      },
      "source": [
        "g = 9.8   # 重力加速度[m/s^2]\n",
        "t = 0\n",
        "dt = 0.1  # 時間幅[sec]\n",
        "x = 0     # xの初期位置[m]\n",
        "y = 100   # yの初期位置[m]\n",
        "vx = 0   # x方向の初期速度[m/s] \n",
        "vy = 0    # y方向の初期速度[m/s]\n",
        "\n",
        "x_array = []\n",
        "y_array = []  \n",
        "\n",
        "for i in range(50):\n",
        "    vx = vx          # x方向の速度成分\n",
        "    vy = vy - g * dt   # y方向の速度成分\n",
        "    x  = x + vx * dt # time後のx座標 \n",
        "    y  = y + vy * dt  # time後のx座標\n",
        "    t = t + dt       # 時刻[sec]\n",
        "\n",
        "    x_array = np.append(x_array, x)\n",
        "    y_array = np.append(y_array, y)\n",
        "\n",
        "fig = plt.figure()             # キャンバス作成\n",
        "ax = fig.add_subplot(1, 1, 1)  # 座標軸作成\n",
        "ax.plot(x_array, y_array, c='red', marker='o')\n",
        "ax.set_xlabel('x [m]')\n",
        "ax.set_ylabel('y [m]')\n",
        "plt.show()    "
      ],
      "execution_count": null,
      "outputs": []
    },
    {
      "cell_type": "markdown",
      "metadata": {
        "id": "qP--yA6jKcpF"
      },
      "source": [
        "アニメーションにすると"
      ]
    },
    {
      "cell_type": "code",
      "metadata": {
        "id": "uMYrC9fjKYAC"
      },
      "source": [
        "fig = plt.figure()             # キャンバス作成\n",
        "ax = fig.add_subplot(1, 1, 1)  # 座標軸作成\n",
        "ax.set_xlabel('x [m]')\n",
        "ax.set_ylabel('y [m]')\n",
        "ax.set_xlim(-1,1)\n",
        "ax.set_ylim(0,120)\n",
        " \n",
        "g = 9.8   # 重力加速度[m/s^2]\n",
        "t = 0\n",
        "dt = 0.1  # 時間幅[sec]\n",
        "x = 0     # xの初期位置[m]\n",
        "y = 100   # yの初期位置[m]\n",
        "vx = 0   # x方向の初期速度[m/s] \n",
        "vy = 0    # y方向の初期速度[m/s]\n",
        "\n",
        "ims = [] \n",
        "\n",
        "for i in range(50):\n",
        "    vx = vx          # x方向の速度成分\n",
        "    vy = vy - g * dt   # y方向の速度成分\n",
        "    x  = x + vx * dt # time後のx座標 \n",
        "    y  = y + vy * dt  # time後のx座標\n",
        "    t = t + dt       # 時刻[sec]\n",
        "\n",
        "    ball = ax.plot(x, y, c='red', marker='o')\n",
        "    ims.append(ball)\n",
        "\n",
        "plt.close()\n",
        "ani = animation.ArtistAnimation(fig, ims) # アニメーションを作成\n",
        "rc('animation', html='jshtml')            # Google Colaboratoryの場合必要\n",
        "ani"
      ],
      "execution_count": null,
      "outputs": []
    },
    {
      "cell_type": "markdown",
      "metadata": {
        "id": "l8dsadZiMSAm"
      },
      "source": [
        "### 練習問題\n",
        "$v_x(t=0)=10$ [m/sec]の時の，ボールの軌跡をアニメーションで描画しなさい。\n",
        "\n",
        "[解説動画](https://youtu.be/j9gp7I_u7E4)"
      ]
    },
    {
      "cell_type": "code",
      "metadata": {
        "id": "Mu6xCVIEMZcM"
      },
      "source": [],
      "execution_count": null,
      "outputs": []
    },
    {
      "cell_type": "markdown",
      "metadata": {
        "id": "PoPWRUGbMlH1"
      },
      "source": [
        "### 練習問題\n",
        "$y=0$ [m]でボールが完全反射する時の軌跡をアニメーションで描画しなさい。\n",
        "[解説動画](https://youtu.be/XVLMPWrDXNU)"
      ]
    },
    {
      "cell_type": "code",
      "metadata": {
        "id": "AYHtjPNgMcp3"
      },
      "source": [],
      "execution_count": null,
      "outputs": []
    },
    {
      "cell_type": "markdown",
      "metadata": {
        "id": "t1RL2WV_MtSa"
      },
      "source": [
        "### 練習問題\n",
        "上の問題において，軌跡を残しながらアニメーションを表示しなさい。\n",
        "[解説動画](https://youtu.be/-LwtrM1L_3E)"
      ]
    },
    {
      "cell_type": "code",
      "metadata": {
        "id": "pWinnWwXMp7Y"
      },
      "source": [],
      "execution_count": null,
      "outputs": []
    },
    {
      "cell_type": "markdown",
      "metadata": {
        "id": "35LpavlyM2b7"
      },
      "source": [
        "作ってきたシミュレーションが正しいかどうかの検算をしましょう。\n",
        "\n",
        "ここまで行ってきた計算は運動方程式の時間積分でした。\n",
        "\n",
        "運動方程式の空間関分であるエネルギーが保存されているかどうかを確認しましょう。\n",
        "\n",
        "力学的エネルギー$E$は\n",
        "\n",
        "$E = \\frac{1}{2}m \\mathbf{v}^2 + mgy$\n",
        "\n",
        "で考えることができます。\n",
        "\n",
        "### 練習問題\n",
        "\n",
        "$m=1$ [kg]とした時，左図に運動の軌跡表示，右図に力学的エネルギーの時間変化のグラフを表示しましょう。アニメーションは不要です。\n",
        "\n",
        "[解説動画](https://youtu.be/fHjZXbSjRtc)"
      ]
    },
    {
      "cell_type": "code",
      "metadata": {
        "id": "EaBnowgDMyzf"
      },
      "source": [],
      "execution_count": null,
      "outputs": []
    },
    {
      "cell_type": "markdown",
      "metadata": {
        "id": "DRpmUUcaM9G4"
      },
      "source": [
        "エネルギーが一定にならないのは何故だろうか？\n",
        "\n",
        "### 練習問題\n",
        "\n",
        "エネルギーの平均値: $\\bar{E}=\\frac{\\Sigma_{i=0}^{i=n-1}E_i}{n}$\n",
        "\n",
        "エネルギーの標準偏差：$s = \\sqrt{\\frac{1}{n} \\Sigma_{i=0}^{i=n-1}(E_i - \\bar{E})^2}$\n",
        "\n",
        "をそれぞれ計算しなさい。\n",
        "\n",
        "\n",
        "[解説動画](https://youtu.be/Z9C7Dn3_smM)"
      ]
    },
    {
      "cell_type": "code",
      "metadata": {
        "id": "C0fFnolBM6Sg"
      },
      "source": [],
      "execution_count": null,
      "outputs": []
    },
    {
      "cell_type": "markdown",
      "metadata": {
        "id": "jNdoR11eNDbh"
      },
      "source": [
        "エネルギーの誤差が大きいのは$dt=0.1$ secとしていることが原因。\n",
        "\n",
        "$dt = 0.01$ secとすれば誤差は本当に小さくなるだろうか？\n",
        "\n",
        "### 練習問題\n",
        "$dt = 0.01$ secとした時のエネルギーの平均値と標準偏差を求めなさい。\n",
        "\n",
        "ただし，サンプリング数は変更しないように!\n",
        "\n",
        "[解説動画](https://youtu.be/8X5p2CFGz5s)"
      ]
    },
    {
      "cell_type": "code",
      "metadata": {
        "id": "8A4OEaEANCqE"
      },
      "source": [],
      "execution_count": null,
      "outputs": []
    },
    {
      "cell_type": "markdown",
      "metadata": {
        "id": "-WYCztrrNKQ4"
      },
      "source": [
        "---\n",
        "# 画像の読み書き"
      ]
    },
    {
      "cell_type": "markdown",
      "metadata": {
        "id": "k52WnwCSNoP8"
      },
      "source": [
        "幅が400ピクセル，高さが300ピクセルのlena.jpgをNumpyで読み込みMatplotlibで表示しましょう。"
      ]
    },
    {
      "cell_type": "code",
      "metadata": {
        "id": "P000uH6gNlgl"
      },
      "source": [
        "! wget -O lena.jpg https://i.gzn.jp/img/2009/06/18/lenna/000.jpg #lena.jpgのダウンロード"
      ],
      "execution_count": null,
      "outputs": []
    },
    {
      "cell_type": "code",
      "metadata": {
        "id": "mzXmtgSVNrPC"
      },
      "source": [
        "image = np.array(Image.open('lena.jpg'))  #絵を配列として読み込む\n",
        "plt.imshow(image)                         #表示"
      ],
      "execution_count": null,
      "outputs": []
    },
    {
      "cell_type": "markdown",
      "metadata": {
        "id": "bgxyK0obNvMT"
      },
      "source": [
        "配列の中身がどのようになっているのかを確認しましょう。"
      ]
    },
    {
      "cell_type": "code",
      "metadata": {
        "id": "6eGBhrhPNyCo"
      },
      "source": [
        "print(image)"
      ],
      "execution_count": null,
      "outputs": []
    },
    {
      "cell_type": "markdown",
      "metadata": {
        "id": "SWnc34RJN5Hx"
      },
      "source": [
        "配列の形状を確認しましょう。(行数，列数，rgbの3成分)"
      ]
    },
    {
      "cell_type": "code",
      "metadata": {
        "id": "Sye6EqdgN0jp"
      },
      "source": [
        "print(image.shape)"
      ],
      "execution_count": null,
      "outputs": []
    },
    {
      "cell_type": "markdown",
      "metadata": {
        "id": "pWkMSN74N-2P"
      },
      "source": [
        "配列のサイズを確認しましょう。"
      ]
    },
    {
      "cell_type": "code",
      "metadata": {
        "id": "6rTfes-_N97w"
      },
      "source": [
        "print(image.size)"
      ],
      "execution_count": null,
      "outputs": []
    },
    {
      "cell_type": "markdown",
      "metadata": {
        "id": "gyQOd0SlOGmG"
      },
      "source": [
        "[r g b]のgを0にして，緑成分を消してみましょう。"
      ]
    },
    {
      "cell_type": "code",
      "metadata": {
        "id": "jifiJJLfODvT"
      },
      "source": [
        "green = [i for i in range(1, image.size, 3)]\n",
        "\n",
        "np.put(image, green, 0)\n",
        "plt.imshow(image) "
      ],
      "execution_count": null,
      "outputs": []
    },
    {
      "cell_type": "markdown",
      "metadata": {
        "id": "JSjQeOf9OMwA"
      },
      "source": [
        "### 練習問題\n",
        "400 x 300 pxの大きさで上半分が赤色，下半分が青色となる画像を作りなさい。\n",
        "\n",
        "[解説動画](https://youtu.be/zEJiUy8-ANM)"
      ]
    },
    {
      "cell_type": "code",
      "metadata": {
        "id": "L44PL8CmOJUI"
      },
      "source": [],
      "execution_count": null,
      "outputs": []
    },
    {
      "cell_type": "markdown",
      "metadata": {
        "id": "m86_4NQUOTUU"
      },
      "source": [
        "### 練習問題\n",
        "400 x 300 pxの大きさで左半分が赤色，右半分が青色となる画像を作りなさい。\n",
        "\n",
        "[解説動画](https://youtu.be/mlhJq9WcBOk)"
      ]
    },
    {
      "cell_type": "code",
      "metadata": {
        "id": "8CV5treiOPk7"
      },
      "source": [],
      "execution_count": null,
      "outputs": []
    },
    {
      "cell_type": "markdown",
      "metadata": {
        "id": "bbnoCEpzOb29"
      },
      "source": [
        "---\n",
        "# 拡散方程式\n",
        "熱や水に溶かしたインクなど拡散する場合拡散物質の密度$\\phi$は次に示す拡散方程式に従います。\n",
        "\n",
        "$$\\frac{d \\phi}{d t} = D \\cdot \\frac{d^2 \\phi}{d \\mathbf{r}^2}$$\n",
        "\n",
        "ここで$D$は拡散係数，$t$は時間，$\\mathbf{r}$は位置ベクトルです。\n",
        "\n",
        "微分の定義より左辺は\n",
        "\n",
        "$$ \\frac{d \\phi}{d t} = \\frac{\\phi(t + \\Delta t) - \\phi(t)}{\\Delta t} $$\n",
        "\n",
        "とかけますが，2回微分がある右辺を考えてみましょう。簡単のために一次元$\\mathbf{r} = x $として考えると，\n",
        "\n",
        "$$ \\frac{d \\phi}{d x} = \\frac{\\phi(x + \\Delta x) - \\phi(x)}{\\Delta x} $$\n",
        "\n",
        "ですので，\n",
        "\n",
        "$$ \\frac{d^2 \\phi}{dx^2} = \\frac{\\frac{\\phi(x+\\Delta x)-\\phi(x)}{\\Delta x} - \\frac{\\phi(x)-\\phi(x-\\Delta x)}{\\Delta x}}{\\Delta x} = \\frac{-2 \\phi(x)+\\phi(x-\\Delta x)+\\phi(x+\\Delta x)}{\\Delta x^2}$$\n",
        "\n",
        "となります。よって\n",
        "\n",
        "$$ \\phi(t+\\Delta t) = \\phi(t) +D \\frac{\\Delta t}{\\Delta x^2} \\cdot \\{ -2\\phi(x) + \\phi(x-\\Delta x) + \\phi(x+\\Delta x)\\} $$\n",
        "\n",
        "となります。ここで，物質中における熱$Q$の伝搬を考えると，比熱$C$，温度$T$を用いて$Q = CT$であるため，温度$T$の伝搬は\n",
        "\n",
        "$$ T(t+\\Delta t) = T(t) +D \\frac{\\Delta t}{\\Delta x^2} \\cdot \\{ -2 T(x) + T(x-\\Delta x) + T(x+\\Delta x)\\} $$\n",
        "\n",
        "となります。"
      ]
    },
    {
      "cell_type": "markdown",
      "metadata": {
        "id": "g3R9wbFMOf0R"
      },
      "source": [
        "## 1次元拡散方程式\n",
        "以下では上記の式を用いて，一次元の棒における温度の伝搬がどのようになるかを考えます。\n",
        "\n",
        "下の図のような，長さ10の棒における温度の伝搬を考えます。"
      ]
    },
    {
      "cell_type": "code",
      "metadata": {
        "id": "OkbLdne2OXxQ"
      },
      "source": [
        "image = []\n",
        "for i in range (10):\n",
        "    image = np.append(image, [0, 0, 0])\n",
        "\n",
        "image = image.astype(int)\n",
        "image = image.reshape([1,10,3])\n",
        "\n",
        "plt.figure(figsize=(20, 5))\n",
        "plt.imshow(image) "
      ],
      "execution_count": null,
      "outputs": []
    },
    {
      "cell_type": "markdown",
      "metadata": {
        "id": "QJktzwVEOlP7"
      },
      "source": [
        "### 練習問題\n",
        "長さ10の1次元棒における温度の伝搬を考える。時刻$t = 0$において，左端の温度を$T=255$ 度，その以外の領域の温度が0 度であり，$t>0$において左端の温度を255 度で保った時の$t=300$における一次元棒の温度分布を色で示しなさい。ただし，温度が高い方が赤色，温度が低い方を青色とする。また右端は0 度に熱アンカーされており，拡散係数は$D=0.1$であるとする。$\\Delta t = 1$，$\\Delta x =1$とする。\n",
        "\n",
        "[解説動画](https://youtu.be/oyZ4S5qdMM4)"
      ]
    },
    {
      "cell_type": "code",
      "metadata": {
        "id": "y81SOMzmOipq"
      },
      "source": [],
      "execution_count": null,
      "outputs": []
    },
    {
      "cell_type": "markdown",
      "metadata": {
        "id": "FnThaycNOrnk"
      },
      "source": [
        "### 練習問題\n",
        "上記の問題において，右端を熱アンカーせず浮かせた場合，$t=300$における温度分布を色で示しなさい。\n",
        "\n",
        "[解説動画](https://youtu.be/bVJTI00ZGvw)"
      ]
    },
    {
      "cell_type": "code",
      "metadata": {
        "id": "Uj9ouoTDOo-M"
      },
      "source": [],
      "execution_count": null,
      "outputs": []
    },
    {
      "cell_type": "markdown",
      "metadata": {
        "id": "Ck7tw_2EOxlD"
      },
      "source": [
        "## 2次元拡散方程式\n",
        "$\\mathbf{r}=(x, y)$の2次元平面での拡散方程式は\n",
        "\n",
        "$$ \\frac{d\\phi}{dt} = D \\cdot (\\frac{d^2 \\phi}{dx^2} + \\frac{d^2 \\phi}{dy^2})$$\n",
        "\n",
        "と書けるため\n",
        "\n",
        "$$ \\phi(t+\\Delta t) = \\phi(t) +D \\frac{\\Delta t}{\\Delta x^2} \\cdot \\{ -4\\phi + \\phi(x-\\Delta x) + \\phi(x+\\Delta x)\\ + \\phi(y-\\Delta y) + \\phi(y+\\Delta y)\\} $$\n",
        "\n",
        "となります。\n",
        "\n",
        "このことを踏まえて，2次元の場合の温度変化を考えましょう。"
      ]
    },
    {
      "cell_type": "markdown",
      "metadata": {
        "id": "B5_kl15_O8Ue"
      },
      "source": [
        "### 練習問題\n",
        "\n",
        "縦25x横50のサイズで2次元の熱伝導を考える。時刻$t=0$では領域内は全て0度であるとする。$t>0$で左面の境界($x=0$)を255度で熱し続けた時の$t=1000$における温度分布を絵として表示しなさい。ただし，その他の領域($x=51, y=0 or 26$)は常に0度に熱アンカーされており，拡散係数は$D=0.1$であるとする。$\\Delta t = 1$，$\\Delta x = \\Delta y =1$とする。\n",
        "\n",
        "[解説動画](https://youtu.be/6-qrtPOYVyM)"
      ]
    },
    {
      "cell_type": "code",
      "metadata": {
        "id": "eL9IQDg_OuLu"
      },
      "source": [],
      "execution_count": null,
      "outputs": []
    }
  ]
}
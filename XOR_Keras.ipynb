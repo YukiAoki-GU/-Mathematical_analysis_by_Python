{
  "cells": [
    {
      "cell_type": "markdown",
      "metadata": {
        "id": "view-in-github",
        "colab_type": "text"
      },
      "source": [
        "<a href=\"https://colab.research.google.com/github/YukiAoki-GU/-Mathematical_analysis_by_Python/blob/main/XOR_Keras.ipynb\" target=\"_parent\"><img src=\"https://colab.research.google.com/assets/colab-badge.svg\" alt=\"Open In Colab\"/></a>"
      ]
    },
    {
      "cell_type": "code",
      "execution_count": 1,
      "metadata": {
        "id": "WwV3K8PcZxyP"
      },
      "outputs": [],
      "source": [
        "'''\n",
        "1. XORゲートの訓練データと正解ラベル\n",
        "'''\n",
        "import numpy as np\n",
        "# XORゲートの入力値　0と1の組み合わせの行列(4, 2)\n",
        "train = np.array([[0, 0], [0, 1], [1, 0], [1, 1]])\n",
        "# XORゲートの出力　正解ラベルの行列(4, 1)\n",
        "#label = np.array([[0], [1], [-1], [0]])\n",
        "label = np.array([[0, 0], [1, 0], [0, 1], [0, 0]]) #(アイコ，勝ち，負け，アイコ)"
      ]
    },
    {
      "cell_type": "code",
      "execution_count": null,
      "metadata": {
        "id": "XmR0iucMZxyQ"
      },
      "outputs": [],
      "source": [
        "'''\n",
        "2. モデルの作成\n",
        "'''\n",
        "from tensorflow.keras.models import Sequential\n",
        "from tensorflow.keras.layers import Dense\n",
        "from tensorflow.keras.optimizers import SGD\n",
        "\n",
        "model = Sequential()     # Sequentialオブジェクトの生成\n",
        "\n",
        "# 隠れ層\n",
        "model.add(\n",
        "    Dense(input_dim=2, # 入力する1データあたりの値の形状\n",
        "          units=2,     # ユニット数は2個\n",
        "          activation='sigmoid')) # 活性化関数はシグモイド\n",
        "\n",
        "# 出力層\n",
        "model.add(\n",
        "    Dense(units=2,               # ユニット数は2個\n",
        "          activation='sigmoid')) # 活性化関数はシグモイド\n",
        "\n",
        "# モデルのコンパイル\n",
        "model.compile(\n",
        "    optimizer=SGD(learning_rate=0.5),       # 最適化に勾配降下法を使用\n",
        "    loss='binary_crossentropy') # クロスエントロピー誤差関数はバイナリ専用\n",
        "\n",
        "# モデルのサマリーを表示\n",
        "model.summary()\n"
      ]
    },
    {
      "cell_type": "code",
      "execution_count": null,
      "metadata": {
        "id": "E4XjKPxUZxyR"
      },
      "outputs": [],
      "source": [
        "'''\n",
        "3. モデルの学習\n",
        "'''\n",
        "history = model.fit(\n",
        "    train,        # 訓練データ\n",
        "    label,        # 正解ラベル\n",
        "    epochs=1000,  # 学習回数\n",
        "    batch_size=4, # ミニバッチの数\n",
        "    verbose=2)    # プログレスバーなしで学習の進捗状況を出力"
      ]
    },
    {
      "cell_type": "code",
      "source": [
        "# モデルの保存\n",
        "# モデル全体を保存（推奨されるネイティブKeras形式）\n",
        "model.save('model.keras')\n",
        "# 学習済みの重みを保存\n",
        "# model.save_weights(\"weights.keras\")"
      ],
      "metadata": {
        "id": "kjQmk4rEtGVd"
      },
      "execution_count": 6,
      "outputs": []
    },
    {
      "cell_type": "code",
      "execution_count": null,
      "metadata": {
        "id": "-CkoG2a7ZxyR"
      },
      "outputs": [],
      "source": [
        "'''\n",
        "4.　学習結果の確認\n",
        "'''\n",
        "# 最終エポックの損失を表示\n",
        "print('loss:', history.history['loss'][-1])\n",
        "# 学習済みのMLPの出力\n",
        "pred = model.predict(train, batch_size=4)\n",
        "print(pred)\n",
        "# MLPの出力が0.5以上であれば1、そうでなければ0を返す\n",
        "print((pred >= 0.5).astype(int))"
      ]
    },
    {
      "cell_type": "markdown",
      "source": [
        "---"
      ],
      "metadata": {
        "id": "mzP3G_l32jmA"
      }
    }
  ],
  "metadata": {
    "kernelspec": {
      "display_name": "Python 3",
      "language": "python",
      "name": "python3"
    },
    "language_info": {
      "codemirror_mode": {
        "name": "ipython",
        "version": 3
      },
      "file_extension": ".py",
      "mimetype": "text/x-python",
      "name": "python",
      "nbconvert_exporter": "python",
      "pygments_lexer": "ipython3",
      "version": "3.6.12"
    },
    "colab": {
      "provenance": [],
      "include_colab_link": true
    }
  },
  "nbformat": 4,
  "nbformat_minor": 0
}
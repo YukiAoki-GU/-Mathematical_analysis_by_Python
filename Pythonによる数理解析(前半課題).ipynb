{
  "nbformat": 4,
  "nbformat_minor": 0,
  "metadata": {
    "colab": {
      "provenance": [],
      "authorship_tag": "ABX9TyNhUYJm7268lBa9syv04ZRj",
      "include_colab_link": true
    },
    "kernelspec": {
      "name": "python3",
      "display_name": "Python 3"
    },
    "language_info": {
      "name": "python"
    }
  },
  "cells": [
    {
      "cell_type": "markdown",
      "metadata": {
        "id": "view-in-github",
        "colab_type": "text"
      },
      "source": [
        "<a href=\"https://colab.research.google.com/github/YukiAoki-GU/-Mathematical_analysis_by_Python/blob/main/Python%E3%81%AB%E3%82%88%E3%82%8B%E6%95%B0%E7%90%86%E8%A7%A3%E6%9E%90(%E5%89%8D%E5%8D%8A%E8%AA%B2%E9%A1%8C).ipynb\" target=\"_parent\"><img src=\"https://colab.research.google.com/assets/colab-badge.svg\" alt=\"Open In Colab\"/></a>"
      ]
    },
    {
      "cell_type": "markdown",
      "metadata": {
        "id": "h24bKijvD1O3"
      },
      "source": [
        "# 課題1\n",
        "ボールを投げる場合を考える。\n",
        "$t = 0$において$v_x = 10$ [m/sec]， $v_y =0$ [m/sec], $x=0$ [m], $y = 100$ [m]\n",
        "とした時の，ボールの軌跡を残しながらアニメーションとエネルギーのアニメーションを同時表示しなさい。時間の刻み幅は $dt=0.01$ secで考えなさい。ただし，全ての点をプロットすると非常に時間がかかるため，プロットは50点(0.5 sec)おきにするものとする。"
      ]
    },
    {
      "cell_type": "code",
      "metadata": {
        "id": "2QUvyH1iDx92"
      },
      "source": [
        "import numpy as np\n",
        "import matplotlib.pyplot as plt\n",
        "from matplotlib import animation, rc\n",
        "from IPython.display import HTML\n"
      ],
      "execution_count": null,
      "outputs": []
    },
    {
      "cell_type": "markdown",
      "metadata": {
        "id": "xAGjGUNCEohG"
      },
      "source": [
        "# 課題2\n",
        "長さが10の1次元の棒における熱伝導を考える。時刻$t = 0$において，左端の温度を$T=255$ 度，その以外の領域の温度が0 度であるとする。$t>0$において左端を熱するのをやめ，右端も浮かせ，断熱状態(外部からの熱の出入りが遮断されている状態)とする。255 度で保った時の$t=300$における一次元棒の温度分布を横軸を位置、縦軸を温度としたグラフとして示しなさい。拡散係数は$D=0.1$であるとする。$\\Delta t = 1$，$\\Delta x =1$とする。"
      ]
    },
    {
      "cell_type": "code",
      "metadata": {
        "id": "Yz1Ydh0eEfYf"
      },
      "source": [
        "import numpy as np\n",
        "import matplotlib.pyplot as plt\n"
      ],
      "execution_count": null,
      "outputs": []
    },
    {
      "cell_type": "markdown",
      "metadata": {
        "id": "UAYwwHL-GqHv"
      },
      "source": [
        "# 課題3\n",
        "縦25x横50のピクセルサイズでの2次元のインクの拡散を考える。時刻$t=0$で$(x, y)=(25, 10)$に$10^5$個の赤い粒子を導入したとき，$t=100$における粒子の分布を図として表しなさい。ただし，拡散係数は$D=0.2$，$\\Delta t = 1$，また$\\Delta x = \\Delta y =1$とする。"
      ]
    },
    {
      "cell_type": "code",
      "metadata": {
        "id": "TT89eiKQHEis"
      },
      "source": [
        "import numpy as np\n",
        "import matplotlib.pyplot as plt\n"
      ],
      "execution_count": null,
      "outputs": []
    }
  ]
}